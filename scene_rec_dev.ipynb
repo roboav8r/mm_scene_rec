{
 "cells": [
  {
   "cell_type": "code",
   "execution_count": 2,
   "id": "00b77274-0898-4d79-9601-cfb32c195f31",
   "metadata": {},
   "outputs": [],
   "source": [
    "import gtsam"
   ]
  },
  {
   "cell_type": "code",
   "execution_count": 3,
   "id": "4ba6777b-6778-4a3d-b65e-cf65ce22a667",
   "metadata": {},
   "outputs": [],
   "source": [
    "# Parameters\n",
    "scenes = ['indoor','outdoor','transportation']\n",
    "scene_sym = gtsam.symbol('s',0)\n",
    "observations = ['indoor','outdoor','transportation']\n",
    "obs_sym = gtsam.symbol('o',0)"
   ]
  },
  {
   "cell_type": "markdown",
   "id": "b124e0a9-c4aa-4696-802a-30a74f95cbab",
   "metadata": {},
   "source": [
    "## Prior"
   ]
  },
  {
   "cell_type": "code",
   "execution_count": 4,
   "id": "0ad741d5-cc1c-4baa-a387-03d46e683b69",
   "metadata": {},
   "outputs": [
    {
     "name": "stdout",
     "output_type": "stream",
     "text": [
      "Discrete Prior\n",
      " P( s0 ):\n",
      " Leaf 0.33333333\n",
      "\n",
      "\n"
     ]
    }
   ],
   "source": [
    "# Define prior\n",
    "categorical_prior = gtsam.DiscreteDistribution([scene_sym,len(scenes)],\"1/1/1\")\n",
    "post = categorical_prior\n",
    "print(categorical_prior)"
   ]
  },
  {
   "cell_type": "markdown",
   "id": "75ae1622-ad2f-4459-96bc-5244976a324b",
   "metadata": {},
   "source": [
    "## Sensor model (Conditional Probability Table)"
   ]
  },
  {
   "cell_type": "code",
   "execution_count": 5,
   "id": "c09db4d1-c8b6-4cf8-8ad0-2afa00ce1990",
   "metadata": {},
   "outputs": [
    {
     "name": "stdout",
     "output_type": "stream",
     "text": [
      "Discrete Conditional\n",
      " P( o0 | s0 ):\n",
      " Choice(s0) \n",
      " 0 Choice(o0) \n",
      " 0 0 Leaf  0.5\n",
      " 0 1 Leaf  0.4\n",
      " 0 2 Leaf  0.1\n",
      " 1 Choice(o0) \n",
      " 1 0 Leaf  0.1\n",
      " 1 1 Leaf  0.8\n",
      " 1 2 Leaf  0.1\n",
      " 2 Choice(o0) \n",
      " 2 0 Leaf 0.25\n",
      " 2 1 Leaf 0.25\n",
      " 2 2 Leaf  0.5\n",
      "\n",
      "\n"
     ]
    }
   ],
   "source": [
    "sensor_model = gtsam.DiscreteConditional([obs_sym,len(observations)],[[scene_sym,len(scenes)]],\"5/4/1 1/8/1 2/2/4\")\n",
    "print(sensor_model)"
   ]
  },
  {
   "cell_type": "markdown",
   "id": "4fd469f0-4a13-42d9-9b69-5c13936e667c",
   "metadata": {},
   "source": [
    "## Measurement"
   ]
  },
  {
   "cell_type": "code",
   "execution_count": 24,
   "id": "fcaa60fc-924a-4779-8d95-c313add25f7e",
   "metadata": {},
   "outputs": [],
   "source": [
    "obs = gtsam.DiscreteDistribution([obs_sym,len(observations)],\".8/.1/.1\")"
   ]
  },
  {
   "cell_type": "markdown",
   "id": "66c4aa2e-f75c-4047-b043-6369254418cd",
   "metadata": {},
   "source": [
    "## Update"
   ]
  },
  {
   "cell_type": "code",
   "execution_count": 25,
   "id": "6292cf03-e498-41d9-a506-a36a5e90cfee",
   "metadata": {},
   "outputs": [
    {
     "name": "stdout",
     "output_type": "stream",
     "text": [
      "DecisionTreeFactor\n",
      " f[ (s0,3), ]\n",
      " Choice(s0) \n",
      " 0 Leaf  0.5\n",
      " 1 Leaf  0.1\n",
      " 2 Leaf 0.25\n",
      "\n"
     ]
    }
   ],
   "source": [
    "likelihood = sensor_model.likelihood(obs.argmax())\n",
    "print(likelihood)"
   ]
  },
  {
   "cell_type": "markdown",
   "id": "e4a4d117-97cd-4acf-af39-ce6bd95db3f7",
   "metadata": {},
   "source": [
    "## THE ACTUAL CORRECT WAY TO UPDATE TODO"
   ]
  },
  {
   "cell_type": "code",
   "execution_count": 26,
   "id": "bc497742-af30-40b1-8d7c-54f7d38d068f",
   "metadata": {},
   "outputs": [
    {
     "name": "stdout",
     "output_type": "stream",
     "text": [
      "DecisionTreeFactor\n",
      " f[ (o0,3), (s0,3), ]\n",
      " Choice(s0) \n",
      " 0 Choice(o0) \n",
      " 0 0 Leaf 0.625\n",
      " 0 1 Leaf    4\n",
      " 0 2 Leaf    1\n",
      " 1 Choice(o0) \n",
      " 1 0 Leaf 0.125\n",
      " 1 1 Leaf    8\n",
      " 1 2 Leaf    1\n",
      " 2 Choice(o0) \n",
      " 2 0 Leaf 0.3125\n",
      " 2 1 Leaf  2.5\n",
      " 2 2 Leaf    5\n",
      "\n"
     ]
    }
   ],
   "source": [
    "likelihood = sensor_model/obs\n",
    "print(likelihood)"
   ]
  },
  {
   "cell_type": "code",
   "execution_count": 32,
   "id": "d598e7e1-f9f3-425b-a626-b7f1c06e7e31",
   "metadata": {},
   "outputs": [
    {
     "name": "stdout",
     "output_type": "stream",
     "text": [
      "Discrete Prior\n",
      " P( o0 s0 ):\n",
      " Choice(s0) \n",
      " 0 Choice(o0) \n",
      " 0 0 Leaf 0.027700831\n",
      " 0 1 Leaf 0.17728532\n",
      " 0 2 Leaf 0.04432133\n",
      " 1 Choice(o0) \n",
      " 1 0 Leaf 0.0055401662\n",
      " 1 1 Leaf 0.35457064\n",
      " 1 2 Leaf 0.04432133\n",
      " 2 Choice(o0) \n",
      " 2 0 Leaf 0.013850416\n",
      " 2 1 Leaf 0.11080332\n",
      " 2 2 Leaf 0.22160665\n",
      "\n",
      "\n"
     ]
    }
   ],
   "source": [
    "post = gtsam.DiscreteDistribution(sensor_model*categorical_prior/obs)\n",
    "# post = gtsam.DiscreteDistribution(likelihood*post)\n",
    "print(post)"
   ]
  },
  {
   "cell_type": "code",
   "execution_count": null,
   "id": "684820b0-59cd-41c7-a4d3-4f47715be981",
   "metadata": {},
   "outputs": [],
   "source": []
  },
  {
   "cell_type": "code",
   "execution_count": null,
   "id": "cbbca95c-0998-4995-aabe-d0d5d1463bc8",
   "metadata": {},
   "outputs": [],
   "source": []
  },
  {
   "cell_type": "code",
   "execution_count": 2,
   "id": "e435817e-35f3-442a-a7bd-39dd95264e20",
   "metadata": {},
   "outputs": [
    {
     "name": "stdout",
     "output_type": "stream",
     "text": [
      "Help on class DiscreteConditional in module gtsam.gtsam:\n",
      "\n",
      "class DiscreteConditional(DecisionTreeFactor)\n",
      " |  Method resolution order:\n",
      " |      DiscreteConditional\n",
      " |      DecisionTreeFactor\n",
      " |      DiscreteFactor\n",
      " |      Factor\n",
      " |      pybind11_builtins.pybind11_object\n",
      " |      builtins.object\n",
      " |  \n",
      " |  Methods defined here:\n",
      " |  \n",
      " |  __init__(...)\n",
      " |      __init__(*args, **kwargs)\n",
      " |      Overloaded function.\n",
      " |      \n",
      " |      1. __init__(self: gtsam.gtsam.DiscreteConditional) -> None\n",
      " |      \n",
      " |      2. __init__(self: gtsam.gtsam.DiscreteConditional, nFrontals: int, f: gtsam.gtsam.DecisionTreeFactor) -> None\n",
      " |      \n",
      " |      3. __init__(self: gtsam.gtsam.DiscreteConditional, key: Tuple[int, int], spec: str) -> None\n",
      " |      \n",
      " |      4. __init__(self: gtsam.gtsam.DiscreteConditional, key: Tuple[int, int], parents: gtsam.gtsam.DiscreteKeys, spec: str) -> None\n",
      " |      \n",
      " |      5. __init__(self: gtsam.gtsam.DiscreteConditional, key: Tuple[int, int], parents: List[Tuple[int, int]], spec: str) -> None\n",
      " |      \n",
      " |      6. __init__(self: gtsam.gtsam.DiscreteConditional, joint: gtsam.gtsam.DecisionTreeFactor, marginal: gtsam.gtsam.DecisionTreeFactor) -> None\n",
      " |      \n",
      " |      7. __init__(self: gtsam.gtsam.DiscreteConditional, joint: gtsam.gtsam.DecisionTreeFactor, marginal: gtsam.gtsam.DecisionTreeFactor, orderedKeys: gtsam.gtsam.Ordering) -> None\n",
      " |  \n",
      " |  __mul__(...)\n",
      " |      __mul__(self: gtsam.gtsam.DiscreteConditional, arg0: gtsam.gtsam.DiscreteConditional) -> gtsam.gtsam.DiscreteConditional\n",
      " |  \n",
      " |  __repr__(...)\n",
      " |      __repr__(self: gtsam.gtsam.DiscreteConditional, s: str = 'Discrete Conditional\\n', keyFormatter: Callable[[int], str] = <built-in method  of PyCapsule object at 0x7fc4f4423c90>) -> str\n",
      " |  \n",
      " |  choose(...)\n",
      " |      choose(self: gtsam.gtsam.DiscreteConditional, given: gtsam::DiscreteValues) -> gtsam.gtsam.DiscreteConditional\n",
      " |  \n",
      " |  equals(...)\n",
      " |      equals(self: gtsam.gtsam.DiscreteConditional, other: gtsam.gtsam.DiscreteConditional, tol: float = 1e-09) -> bool\n",
      " |  \n",
      " |  error(...)\n",
      " |      error(*args, **kwargs)\n",
      " |      Overloaded function.\n",
      " |      \n",
      " |      1. error(self: gtsam.gtsam.DiscreteConditional, values: gtsam::DiscreteValues) -> float\n",
      " |      \n",
      " |      2. error(self: gtsam.gtsam.DiscreteConditional, x: gtsam::HybridValues) -> float\n",
      " |  \n",
      " |  evaluate(...)\n",
      " |      evaluate(*args, **kwargs)\n",
      " |      Overloaded function.\n",
      " |      \n",
      " |      1. evaluate(self: gtsam.gtsam.DiscreteConditional, values: gtsam::DiscreteValues) -> float\n",
      " |      \n",
      " |      2. evaluate(self: gtsam.gtsam.DiscreteConditional, x: gtsam::HybridValues) -> float\n",
      " |  \n",
      " |  firstFrontalKey(...)\n",
      " |      firstFrontalKey(self: gtsam.gtsam.DiscreteConditional) -> int\n",
      " |  \n",
      " |  likelihood(...)\n",
      " |      likelihood(*args, **kwargs)\n",
      " |      Overloaded function.\n",
      " |      \n",
      " |      1. likelihood(self: gtsam.gtsam.DiscreteConditional, frontalValues: gtsam::DiscreteValues) -> gtsam.gtsam.DecisionTreeFactor\n",
      " |      \n",
      " |      2. likelihood(self: gtsam.gtsam.DiscreteConditional, value: int) -> gtsam.gtsam.DecisionTreeFactor\n",
      " |  \n",
      " |  logNormalizationConstant(...)\n",
      " |      logNormalizationConstant(self: gtsam.gtsam.DiscreteConditional) -> float\n",
      " |  \n",
      " |  logProbability(...)\n",
      " |      logProbability(*args, **kwargs)\n",
      " |      Overloaded function.\n",
      " |      \n",
      " |      1. logProbability(self: gtsam.gtsam.DiscreteConditional, values: gtsam::DiscreteValues) -> float\n",
      " |      \n",
      " |      2. logProbability(self: gtsam.gtsam.DiscreteConditional, x: gtsam::HybridValues) -> float\n",
      " |  \n",
      " |  marginal(...)\n",
      " |      marginal(self: gtsam.gtsam.DiscreteConditional, key: int) -> gtsam.gtsam.DiscreteConditional\n",
      " |  \n",
      " |  nrFrontals(...)\n",
      " |      nrFrontals(self: gtsam.gtsam.DiscreteConditional) -> int\n",
      " |  \n",
      " |  nrParents(...)\n",
      " |      nrParents(self: gtsam.gtsam.DiscreteConditional) -> int\n",
      " |  \n",
      " |  print(...)\n",
      " |      print(self: gtsam.gtsam.DiscreteConditional, s: str = 'Discrete Conditional\\n', keyFormatter: Callable[[int], str] = <built-in method  of PyCapsule object at 0x7fc4f4423c00>) -> None\n",
      " |  \n",
      " |  printSignature(...)\n",
      " |      printSignature(self: gtsam.gtsam.DiscreteConditional, s: str = 'Discrete Conditional: ', formatter: Callable[[int], str] = <built-in method  of PyCapsule object at 0x7fc4f4423ea0>) -> None\n",
      " |  \n",
      " |  sample(...)\n",
      " |      sample(*args, **kwargs)\n",
      " |      Overloaded function.\n",
      " |      \n",
      " |      1. sample(self: gtsam.gtsam.DiscreteConditional, parentsValues: gtsam::DiscreteValues) -> int\n",
      " |      \n",
      " |      2. sample(self: gtsam.gtsam.DiscreteConditional, value: int) -> int\n",
      " |      \n",
      " |      3. sample(self: gtsam.gtsam.DiscreteConditional) -> int\n",
      " |  \n",
      " |  sampleInPlace(...)\n",
      " |      sampleInPlace(self: gtsam.gtsam.DiscreteConditional, parentsValues: gtsam::DiscreteValues) -> None\n",
      " |  \n",
      " |  ----------------------------------------------------------------------\n",
      " |  Methods inherited from DecisionTreeFactor:\n",
      " |  \n",
      " |  __call__(...)\n",
      " |      __call__(self: gtsam.gtsam.DecisionTreeFactor, arg0: gtsam::DiscreteValues) -> float\n",
      " |  \n",
      " |  __truediv__(...)\n",
      " |      __truediv__(self: gtsam.gtsam.DecisionTreeFactor, arg0: gtsam.gtsam.DecisionTreeFactor) -> gtsam.gtsam.DecisionTreeFactor\n",
      " |  \n",
      " |  cardinality(...)\n",
      " |      cardinality(*args, **kwargs)\n",
      " |      Overloaded function.\n",
      " |      \n",
      " |      1. cardinality(self: gtsam.gtsam.DecisionTreeFactor, j: int) -> int\n",
      " |      \n",
      " |      2. cardinality(self: gtsam.gtsam.DecisionTreeFactor, j: int) -> int\n",
      " |  \n",
      " |  dot(...)\n",
      " |      dot(self: gtsam.gtsam.DecisionTreeFactor, keyFormatter: Callable[[int], str] = <built-in method  of PyCapsule object at 0x7fc4f4423630>, showZero: bool = True) -> str\n",
      " |  \n",
      " |  enumerate(...)\n",
      " |      enumerate(self: gtsam.gtsam.DecisionTreeFactor) -> List[Tuple[gtsam::DiscreteValues, float]]\n",
      " |  \n",
      " |  max(...)\n",
      " |      max(*args, **kwargs)\n",
      " |      Overloaded function.\n",
      " |      \n",
      " |      1. max(self: gtsam.gtsam.DecisionTreeFactor, nrFrontals: int) -> gtsam.gtsam.DecisionTreeFactor\n",
      " |      \n",
      " |      2. max(self: gtsam.gtsam.DecisionTreeFactor, keys: gtsam.gtsam.Ordering) -> gtsam.gtsam.DecisionTreeFactor\n",
      " |  \n",
      " |  sum(...)\n",
      " |      sum(*args, **kwargs)\n",
      " |      Overloaded function.\n",
      " |      \n",
      " |      1. sum(self: gtsam.gtsam.DecisionTreeFactor, nrFrontals: int) -> gtsam.gtsam.DecisionTreeFactor\n",
      " |      \n",
      " |      2. sum(self: gtsam.gtsam.DecisionTreeFactor, keys: gtsam.gtsam.Ordering) -> gtsam.gtsam.DecisionTreeFactor\n",
      " |  \n",
      " |  ----------------------------------------------------------------------\n",
      " |  Methods inherited from Factor:\n",
      " |  \n",
      " |  empty(...)\n",
      " |      empty(self: gtsam.gtsam.Factor) -> bool\n",
      " |  \n",
      " |  keys(...)\n",
      " |      keys(self: gtsam.gtsam.Factor) -> List[int]\n",
      " |  \n",
      " |  printKeys(...)\n",
      " |      printKeys(self: gtsam.gtsam.Factor, s: str = '') -> None\n",
      " |  \n",
      " |  size(...)\n",
      " |      size(self: gtsam.gtsam.Factor) -> int\n",
      " |  \n",
      " |  ----------------------------------------------------------------------\n",
      " |  Static methods inherited from pybind11_builtins.pybind11_object:\n",
      " |  \n",
      " |  __new__(*args, **kwargs) from pybind11_builtins.pybind11_type\n",
      " |      Create and return a new object.  See help(type) for accurate signature.\n",
      "\n"
     ]
    }
   ],
   "source": [
    "help (gtsam.DiscreteConditional)"
   ]
  },
  {
   "cell_type": "code",
   "execution_count": null,
   "id": "9c93325c-c579-4f58-929e-6c69b935871f",
   "metadata": {},
   "outputs": [],
   "source": []
  },
  {
   "cell_type": "code",
   "execution_count": null,
   "id": "65729fac-a160-4425-8654-f411b19f8531",
   "metadata": {},
   "outputs": [],
   "source": []
  }
 ],
 "metadata": {
  "kernelspec": {
   "display_name": "Python 3 (ipykernel)",
   "language": "python",
   "name": "python3"
  },
  "language_info": {
   "codemirror_mode": {
    "name": "ipython",
    "version": 3
   },
   "file_extension": ".py",
   "mimetype": "text/x-python",
   "name": "python",
   "nbconvert_exporter": "python",
   "pygments_lexer": "ipython3",
   "version": "3.10.0"
  }
 },
 "nbformat": 4,
 "nbformat_minor": 5
}
